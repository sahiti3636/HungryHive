{
 "cells": [
  {
   "cell_type": "code",
   "execution_count": 40,
   "metadata": {},
   "outputs": [],
   "source": [
    "import json\n",
    "import pandas as pd\n",
    "import numpy as np\n",
    "from kneed import KneeLocator\n",
    "import matplotlib.pyplot as plt\n",
    "from sklearn.cluster import KMeans\n",
    "from sklearn.preprocessing import StandardScaler\n",
    "from sklearn.decomposition import PCA\n",
    "from sklearn.metrics import silhouette_score"
   ]
  },
  {
   "cell_type": "code",
   "execution_count": 41,
   "metadata": {},
   "outputs": [],
   "source": [
    "# -----------------------------\n",
    "# Step 1: Load JSON\n",
    "# -----------------------------\n",
    "with open('user_preferences.json', 'r') as f:\n",
    "    data = json.load(f)\n",
    "\n",
    "df = pd.DataFrame(data)\n",
    "processed_df = df.copy()"
   ]
  },
  {
   "cell_type": "code",
   "execution_count": 42,
   "metadata": {},
   "outputs": [],
   "source": [
    "# -----------------------------\n",
    "# Step 2: Separate columns\n",
    "# -----------------------------\n",
    "# Identify drinking preference columns (exclude from clustering)\n",
    "drinking_cols = ['mocktail', 'juice', 'cocktail', 'alcohol']\n",
    "\n",
    "# Clustering-relevant preference columns\n",
    "preference_cols = [col for col in df.columns if col not in ['name', 'diet', 'drink_preferences']]\n",
    "# Flatten the drink_preferences nested dict into separate columns\n",
    "for drink_col in drinking_cols:\n",
    "    processed_df[drink_col] = processed_df['drink_preferences'].apply(lambda x: x.get(drink_col, None))\n",
    "\n",
    "\n",
    "# Scale only clustering-relevant columns\n",
    "X = processed_df[preference_cols]\n",
    "scaler = StandardScaler()\n",
    "X_scaled = scaler.fit_transform(X)"
   ]
  },
  {
   "cell_type": "code",
   "execution_count": 43,
   "metadata": {},
   "outputs": [
    {
     "name": "stdout",
     "output_type": "stream",
     "text": [
      "Chosen number of clusters (k) = 4\n"
     ]
    }
   ],
   "source": [
    "# -----------------------------\n",
    "# Step 3: Determine optimal number of clusters (k)\n",
    "# -----------------------------\n",
    "inertias = []\n",
    "sil_scores = []\n",
    "K_range = range(2, min(7, len(df)))\n",
    "\n",
    "for k in K_range:\n",
    "    kmeans = KMeans(n_clusters=k, random_state=42)\n",
    "    labels = kmeans.fit_predict(X_scaled)\n",
    "    inertias.append(kmeans.inertia_)\n",
    "    sil_scores.append(silhouette_score(X_scaled, labels))\n",
    "\n",
    "knee = KneeLocator(K_range, inertias, curve=\"convex\", direction=\"decreasing\")\n",
    "best_k_elbow = knee.knee\n",
    "best_k_silhouette = K_range[sil_scores.index(max(sil_scores))]\n",
    "\n",
    "if best_k_elbow is None:\n",
    "    best_k = best_k_silhouette\n",
    "else:\n",
    "    best_k = best_k_silhouette if abs(best_k_elbow - best_k_silhouette) <= 1 else best_k_elbow\n",
    "\n",
    "print(f\"Chosen number of clusters (k) = {best_k}\")"
   ]
  },
  {
   "cell_type": "code",
   "execution_count": 44,
   "metadata": {},
   "outputs": [],
   "source": [
    "# -----------------------------\n",
    "# Step 4: Final K-Means clustering\n",
    "# -----------------------------\n",
    "kmeans_final = KMeans(n_clusters=best_k, random_state=42)\n",
    "processed_df['cluster'] = kmeans_final.fit_predict(X_scaled)"
   ]
  },
  {
   "cell_type": "code",
   "execution_count": 45,
   "metadata": {},
   "outputs": [
    {
     "name": "stdout",
     "output_type": "stream",
     "text": [
      "\n",
      "Cluster Assignments:\n",
      "\n",
      "      name  cluster  hunger_level  spice_level  indian_craving  \\\n",
      "0    Alice        3             5            4               5   \n",
      "1      Bob        2             2            1               1   \n",
      "2  Charlie        1             4            5               2   \n",
      "3    David        0             3            2               1   \n",
      "4      Eve        2             1            1               2   \n",
      "5    Frank        1             5            5               5   \n",
      "6   Hannah        2             2            3               1   \n",
      "7      Ian        3             4            3               4   \n",
      "8     Kate        0             3            4               3   \n",
      "9      Leo        1             5            5               5   \n",
      "\n",
      "   pan_asian_craving  italian_craving  mexican_craving  american_craving  \\\n",
      "0                  2                3                1                 4   \n",
      "1                  4                5                2                 3   \n",
      "2                  5                1                2                 2   \n",
      "3                  3                3                5                 3   \n",
      "4                  1                5                2                 4   \n",
      "5                  4                1                1                 3   \n",
      "6                  4                3                2                 4   \n",
      "7                  2                2                4                 5   \n",
      "8                  2                2                5                 3   \n",
      "9                  5                1                2                 4   \n",
      "\n",
      "   spanish_craving  french_craving  middle_eastern_craving     diet  \n",
      "0                2               3                       2      Veg  \n",
      "1                2               4                       3  Non-Veg  \n",
      "2                3               1                       2      Veg  \n",
      "3                4               2                       1  Non-Veg  \n",
      "4                2               3                       2      Veg  \n",
      "5                2               1                       3  Non-Veg  \n",
      "6                1               3                       2      Veg  \n",
      "7                3               4                       2  Non-Veg  \n",
      "8                4               3                       1      Veg  \n",
      "9                2               1                       3  Non-Veg  \n"
     ]
    }
   ],
   "source": [
    "# -----------------------------\n",
    "# Step 5: Cluster assignments\n",
    "# -----------------------------\n",
    "print(\"\\nCluster Assignments:\\n\")\n",
    "print(processed_df[['name', 'cluster'] + preference_cols + ['diet']])"
   ]
  },
  {
   "cell_type": "code",
   "execution_count": 46,
   "metadata": {},
   "outputs": [
    {
     "name": "stdout",
     "output_type": "stream",
     "text": [
      "Cluster summary saved to 'cluster_summary.json'\n"
     ]
    }
   ],
   "source": [
    "# -----------------------------\n",
    "# Step 6: Detailed cluster analysis + store in JSON\n",
    "# -----------------------------\n",
    "cluster_summary = []\n",
    "\n",
    "for cluster_id in sorted(processed_df['cluster'].unique()):\n",
    "    cluster_data = processed_df[processed_df['cluster'] == cluster_id]\n",
    "    \n",
    "    # Member names\n",
    "    members = list(cluster_data['name'])\n",
    "    \n",
    "    # Diet breakdown\n",
    "    diet_counts = {str(k): int(v) for k, v in cluster_data['diet'].value_counts().to_dict().items()}\n",
    "    \n",
    "    # Cuisine cravings in descending order\n",
    "    cuisine_cols = [col for col in preference_cols if '_craving' in col]\n",
    "    cuisine_avgs = cluster_data[cuisine_cols].mean().sort_values(ascending=False)\n",
    "    cuisine_avgs_dict = {str(k): round(float(v), 2) for k, v in cuisine_avgs.to_dict().items()}\n",
    "    \n",
    "    # Other numeric preferences\n",
    "    other_cols = [col for col in preference_cols if col not in cuisine_cols]\n",
    "    other_avgs = cluster_data[other_cols].mean().sort_values(ascending=False)\n",
    "    other_avgs_dict = {str(k): round(float(v), 2) for k, v in other_avgs.to_dict().items()}\n",
    "    \n",
    "    # Drinking preferences (individual-level)\n",
    "    drinks_data = cluster_data[['name'] + drinking_cols].set_index('name').to_dict(orient='index')\n",
    "    \n",
    "    cluster_summary.append({\n",
    "        \"cluster_id\": int(cluster_id),\n",
    "        \"members\": members,\n",
    "        \"diet_breakdown\": diet_counts,\n",
    "        \"cuisine_craving_averages\": cuisine_avgs_dict,\n",
    "        \"average_preferences\": other_avgs_dict,\n",
    "        \"individual_drinking_preferences\": drinks_data\n",
    "    })\n",
    "\n",
    "# Save final cluster summary to JSON\n",
    "with open(\"cluster_summary.json\", \"w\") as f:\n",
    "    json.dump(cluster_summary, f, indent=4)\n",
    "\n",
    "print(\"Cluster summary saved to 'cluster_summary.json'\")"
   ]
  },
  {
   "cell_type": "code",
   "execution_count": 47,
   "metadata": {},
   "outputs": [
    {
     "data": {
      "image/png": "[encoded data removed]",
      "text/plain": [
       "<Figure size 1000x800 with 1 Axes>"
      ]
     },
     "metadata": {},
     "output_type": "display_data"
    }
   ],
   "source": [
    "# -----------------------------\n",
    "# Step 7: PCA visualization\n",
    "# -----------------------------\n",
    "pca = PCA(n_components=2)\n",
    "X_pca = pca.fit_transform(X_scaled)\n",
    "\n",
    "viz_df = pd.DataFrame(X_pca, columns=['PCA1', 'PCA2'])\n",
    "viz_df['cluster'] = processed_df['cluster']\n",
    "viz_df['name'] = processed_df['name']\n",
    "\n",
    "plt.figure(figsize=(10, 8))\n",
    "for cluster_id in sorted(viz_df['cluster'].unique()):\n",
    "    cluster_data = viz_df[viz_df['cluster'] == cluster_id]\n",
    "    plt.scatter(cluster_data['PCA1'], cluster_data['PCA2'], label=f\"Cluster {cluster_id}\")\n",
    "\n",
    "# Label points with user names\n",
    "for i, row in viz_df.iterrows():\n",
    "    plt.text(row['PCA1'] + 0.02, row['PCA2'] + 0.02, row['name'], fontsize=9)\n",
    "\n",
    "plt.title(\"Group Dining Preference Clusters (PCA Visualization)\")\n",
    "plt.xlabel(\"PCA Component 1\")\n",
    "plt.ylabel(\"PCA Component 2\")\n",
    "plt.legend()\n",
    "plt.grid(True)\n",
    "plt.show()\n"
   ]
  },
  {
   "cell_type": "code",
   "execution_count": null,
   "metadata": {},
   "outputs": [],
   "source": []
  }
 ],
 "metadata": {
  "kernelspec": {
   "display_name": "base",
   "language": "python",
   "name": "python3"
  },
  "language_info": {
   "codemirror_mode": {
    "name": "ipython",
    "version": 3
   },
   "file_extension": ".py",
   "mimetype": "text/x-python",
   "name": "python",
   "nbconvert_exporter": "python",
   "pygments_lexer": "ipython3",
   "version": "3.12.7"
  }
 },
 "nbformat": 4,
 "nbformat_minor": 2
}
